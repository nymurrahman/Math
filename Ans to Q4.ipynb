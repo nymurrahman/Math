{
 "cells": [
  {
   "cell_type": "code",
   "execution_count": 11,
   "metadata": {},
   "outputs": [
    {
     "name": "stdout",
     "output_type": "stream",
     "text": [
      "       45893 's digital root 2.\n",
      "      162014 's digital root 5.\n",
      "      213124 's digital root 4.\n",
      "       21323 's digital root 2.\n",
      "          55 's digital root 1.\n"
     ]
    }
   ],
   "source": [
    "def digital_root (n):\n",
    "    ap = 0\n",
    "    n = abs(int(n))\n",
    "    while n >= 10:\n",
    "        n = sum(int(digit) for digit in str(n))\n",
    "        ap += 1\n",
    "    return ap, n\n",
    " \n",
    "if __name__ == '__main__':\n",
    "    for n in [45893 , 162014 , 213124 , 21323, 55]:\n",
    "        persistance, root = digital_root(n)\n",
    "        print(\"%12i 's digital root %i.\" \n",
    "              % (n, root))"
   ]
  },
  {
   "cell_type": "code",
   "execution_count": null,
   "metadata": {},
   "outputs": [],
   "source": []
  },
  {
   "cell_type": "code",
   "execution_count": null,
   "metadata": {},
   "outputs": [],
   "source": []
  }
 ],
 "metadata": {
  "kernelspec": {
   "display_name": "Python 3",
   "language": "python",
   "name": "python3"
  },
  "language_info": {
   "codemirror_mode": {
    "name": "ipython",
    "version": 3
   },
   "file_extension": ".py",
   "mimetype": "text/x-python",
   "name": "python",
   "nbconvert_exporter": "python",
   "pygments_lexer": "ipython3",
   "version": "3.7.0"
  }
 },
 "nbformat": 4,
 "nbformat_minor": 2
}
